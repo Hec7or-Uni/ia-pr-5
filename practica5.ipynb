{
  "nbformat": 4,
  "nbformat_minor": 0,
  "metadata": {
    "colab": {
      "name": "FiltroSpam_P5.ipynb",
      "provenance": [],
      "collapsed_sections": []
    },
    "kernelspec": {
      "name": "python3",
      "display_name": "Python 3"
    },
    "language_info": {
      "name": "python"
    }
  },
  "cells": [
    {
      "cell_type": "markdown",
      "metadata": {
        "id": "lHs7ywqw20Jr"
      },
      "source": [
        "# Práctica 5 - Filtrado de Spam usando Bayes Ingenuo\n",
        "\n",
        "Guarda una copia de este cuaderno en tu Google Drive para poder editarla y ejecutarla.\n",
        "\n",
        "El propio cuaderno será tu informe de la práctica. Puedes añadir tantas secciones de código y de texto como consideres necesario para resolver todos los ejercicios propuestos y analizar los resultados obtenidos. Una vez hayas terminado, descarga el notebook en formato ipynb y súbelo a Moodle en la tarea habilitada para la P5 con el nombre NIP_P5.ipynb"
      ]
    },
    {
      "cell_type": "markdown",
      "metadata": {
        "id": "E0VmxZqbSZkh"
      },
      "source": [
        "Imports necesarios para ejecutar la práctica"
      ]
    },
    {
      "cell_type": "code",
      "metadata": {
        "id": "5eMdo6XcI-8G"
      },
      "source": [
        "import numpy as np\n",
        "import json\n",
        "import glob\n",
        "import matplotlib.pyplot as plt\n",
        "from sklearn.feature_extraction.text import CountVectorizer\n",
        "from sklearn.feature_extraction.text import TfidfTransformer\n",
        "from sklearn.naive_bayes import MultinomialNB\n",
        "from sklearn.naive_bayes import BernoulliNB\n",
        "from sklearn.utils import shuffle\n",
        "from sklearn import metrics\n",
        "from sklearn.model_selection import KFold\n",
        "\n",
        "from sklearn.model_selection import train_test_split"
      ],
      "execution_count": 1,
      "outputs": []
    },
    {
      "cell_type": "markdown",
      "metadata": {
        "id": "vaaAoKT8Sdoi"
      },
      "source": [
        "Carga del fichero ZIP con todos los correos"
      ]
    },
    {
      "cell_type": "code",
      "metadata": {
        "id": "Ju6jVmIFGdaE"
      },
      "source": [
        "!wget --load-cookies /tmp/cookies.txt \"https://docs.google.com/uc?export=download&confirm=$(wget --quiet --save-cookies /tmp/cookies.txt --keep-session-cookies --no-check-certificate 'https://docs.google.com/uc?export=download&id=1hYha8kSpbAhGIHAfygLFmGHIzHGAK5f8' -O- | sed -rn 's/.*confirm=([0-9A-Za-z_]+).*/\\1\\n/p')&id=1hYha8kSpbAhGIHAfygLFmGHIzHGAK5f8\" -O \"enron.zip\" && rm -rf /tmp/cookies.txt\n",
        "!unzip \"enron.zip\""
      ],
      "execution_count": null,
      "outputs": []
    },
    {
      "cell_type": "markdown",
      "metadata": {
        "id": "j2uujVbYSO9x"
      },
      "source": [
        "Lectura de los emails y carga en las estructuras de datos"
      ]
    },
    {
      "cell_type": "code",
      "metadata": {
        "id": "ti5yXHPpOpAr"
      },
      "source": [
        "def read_folder(folder):\n",
        "    mails = []\n",
        "    file_list = glob.glob(folder)  # List mails in folder\n",
        "    num_files = len(file_list)\n",
        "    for i in range(0, num_files):\n",
        "        i_path = file_list[i]\n",
        "        i_file = open(i_path, 'rb')\n",
        "        i_str = i_file.read()\n",
        "        i_text = i_str.decode('utf-8', errors='ignore')  # Convert to Unicode\n",
        "        mails.append(i_text)  # Append to the mail structure\n",
        "        i_file.close()\n",
        "    return mails\n",
        "\n",
        "def load_enron_folders(datasets):\n",
        "    path = './'\n",
        "    ham = []\n",
        "    spam = []\n",
        "    for j in datasets:\n",
        "        ham  = ham  + read_folder(path + '/enron' + str(j) + '/ham/*.txt')\n",
        "        spam = spam + read_folder(path + '/enron' + str(j) + '/spam/*.txt')\n",
        "    num_ham  = len(ham)\n",
        "    num_spam = len(spam)\n",
        "    print(\"mails:\", num_ham+num_spam)\n",
        "    print(\"ham  :\", num_ham)\n",
        "    print(\"spam :\", num_spam)\n",
        "\n",
        "    mails = ham + spam\n",
        "    labels = [0]*num_ham + [1]*num_spam\n",
        "    mails, labels = shuffle(mails, labels, random_state=0)\n",
        "    return mails, labels\n",
        "\n",
        "print(\"Loading files...\")\n",
        "\n",
        "print(\"------Loading train and validation data--------\")\n",
        "mails, y = load_enron_folders([1,2,3,4,5])\n",
        "\n",
        "print(\"--------------Loading Test data----------------\")\n",
        "mails_test, y_test = load_enron_folders([6])"
      ],
      "execution_count": null,
      "outputs": []
    },
    {
      "cell_type": "markdown",
      "metadata": {
        "id": "0-a8BMyQS13B"
      },
      "source": [
        "Código para generar una bolsa de palabras que cuenta el número de apariciones de cada palabra en la lista de correos\n",
        "\n",
        "Crea una matriz X con tantas filas como correos (27716) y tantas columnas como palabras de la BD. El elemento (i,j) de la matriz contiene el número de ocurrencias de la palabra j en el correo i"
      ]
    },
    {
      "cell_type": "code",
      "metadata": {
        "id": "O8Fz7j4iBRh0"
      },
      "source": [
        "vectorizer  = CountVectorizer(ngram_range=(2, 2))  # Instancia de bolsa de palabras con palabras individuales como características\n",
        "X = vectorizer.fit_transform(mails)                # Generación y cálculo de la bolsa de palabras en base a los datos de entrenamiento\n",
        "X_test = vectorizer.transform(mails_test)          # Cáclulo de la bolsa de palabras con los datos de test"
      ],
      "execution_count": 4,
      "outputs": []
    },
    {
      "cell_type": "markdown",
      "metadata": {
        "id": "G90GpsJ5UKBI"
      },
      "source": [
        "Aprendizaje de las probabilidades utilizando un modelo de distribución Bernoulli.\n",
        "\n",
        "Consulta la documentación de sklearn para entender los parámetros."
      ]
    },
    {
      "cell_type": "code",
      "metadata": {
        "colab": {
          "base_uri": "https://localhost:8080/"
        },
        "id": "NDeOtoAKTGyy",
        "outputId": "4478b4c7-b5a8-4339-a31e-adf1af46ca69"
      },
      "source": [
        "classifier = BernoulliNB(alpha=1.0, fit_prior=True, class_prior=None) # Instancia de clasificador de Bayes Ingenuo con distribución de Bernoulli\n",
        "classifier.fit(X,y) # Cálculo de las probabilidades asociadas a cada palabra de la bolsa"
      ],
      "execution_count": 5,
      "outputs": [
        {
          "output_type": "execute_result",
          "data": {
            "text/plain": [
              "BernoulliNB()"
            ]
          },
          "metadata": {},
          "execution_count": 5
        }
      ]
    },
    {
      "cell_type": "markdown",
      "metadata": {
        "id": "u1Zc5brWUHqQ"
      },
      "source": [
        "Cálculo de métricas del clasificador utilizando los datos de test"
      ]
    },
    {
      "cell_type": "code",
      "metadata": {
        "id": "MLhvnRYGUG_r",
        "colab": {
          "base_uri": "https://localhost:8080/",
          "height": 366
        },
        "outputId": "5b7ea8ba-6a45-4545-be16-e1df3b2fba09"
      },
      "source": [
        "y_pred = classifier.predict(X_test)\n",
        "f1_score=metrics.f1_score(y_test, y_pred)\n",
        "print('%s %2.2f%s' % ('F1-score of the test: ', 100*f1_score, '%' ))\n",
        "C=metrics.confusion_matrix(y_test, y_pred)\n",
        "print(\"Confusion Matrix:\")\n",
        "print(C)\n",
        "# metrics.plot_precision_recall_curve(classifier,X_test,y_test) # deprecated\n",
        "metrics.PrecisionRecallDisplay.from_estimator(classifier,X_test,y_test)"
      ],
      "execution_count": 6,
      "outputs": [
        {
          "output_type": "stream",
          "name": "stdout",
          "text": [
            "F1-score of the test:  97.23%\n",
            "Confusion Matrix:\n",
            "[[1265  235]\n",
            " [  20 4480]]\n"
          ]
        },
        {
          "output_type": "execute_result",
          "data": {
            "text/plain": [
              "<sklearn.metrics._plot.precision_recall_curve.PrecisionRecallDisplay at 0x7f26fef4e990>"
            ]
          },
          "metadata": {},
          "execution_count": 6
        },
        {
          "output_type": "display_data",
          "data": {
            "image/png": "[encoded data removed]",
            "text/plain": [
              "<Figure size 432x288 with 1 Axes>"
            ]
          },
          "metadata": {
            "needs_background": "light"
          }
        }
      ]
    },
    {
      "cell_type": "markdown",
      "source": [
        "EJERCICIOS"
      ],
      "metadata": {
        "id": "VK4NSVdvE99f"
      }
    },
    {
      "cell_type": "code",
      "source": [
        "def tryBest(p: float, method: str) -> None:\n",
        "  DATA_SCORE = [0,0,0,0] # score, alpha, y_test, y_pred\n",
        "  alphas = [i/100 for i in range(1, 201) if i % 5 == 0]\n",
        "  # cabecera\n",
        "  print(f\"{(1-p)*100}% - test\\n{p*100}% - validation\")\n",
        "\n",
        "  for alpha in alphas:\n",
        "    # prepara los datos de entrenamiento y validación\n",
        "    X_train, X_validate, Y_train, Y_validate = train_test_split(X, y, test_size=p)\n",
        "    \n",
        "    # prepara el método\n",
        "    if method == \"BernoulliNB\":\n",
        "      classifier = BernoulliNB(alpha=alpha, fit_prior=True, class_prior=None)\n",
        "    elif method == \"MultinomialNB\":\n",
        "      classifier = MultinomialNB(alpha=alpha, fit_prior=True, class_prior=None)\n",
        "\n",
        "    classifier.fit(X_train, Y_train)\n",
        "    y_pred = classifier.predict(X_test)\n",
        "    # aplica el test\n",
        "    f1_score = metrics.f1_score(y_test, y_pred)\n",
        "    # Compara los f1_score para cada alpha\n",
        "    # print(f\"alpha:{alpha} -> score:{f1_score}\")\n",
        "    # guardamos los datos: [score, alpha, y_test, y_pred]\n",
        "    if DATA_SCORE[0] < f1_score:\n",
        "      DATA_SCORE[0] = f1_score\n",
        "      DATA_SCORE[1] = alpha\n",
        "      DATA_SCORE[2] = y_test \n",
        "      DATA_SCORE[3] = y_pred\n",
        "\n",
        "  # results\n",
        "  print(f\"alpha: {DATA_SCORE[1]}\")\n",
        "  print('%s %2.2f%s' % ('F1-score of the test: ', 100*DATA_SCORE[0], '%' ))\n",
        "  matriz = metrics.confusion_matrix(DATA_SCORE[2], DATA_SCORE[3])\n",
        "  print(\"Confusion Matrix:\")\n",
        "  print(matriz)\n",
        "  metrics.PrecisionRecallDisplay.from_estimator(classifier, X_test, y_test)"
      ],
      "metadata": {
        "id": "JErcfvH_FCvO"
      },
      "execution_count": 7,
      "outputs": []
    },
    {
      "cell_type": "code",
      "source": [
        "tryBest(p=0.2, method=\"BernoulliNB\")"
      ],
      "metadata": {
        "colab": {
          "base_uri": "https://localhost:8080/",
          "height": 401
        },
        "id": "e3RhwppVlF6K",
        "outputId": "e337b10e-d6ca-4577-e3df-04aa987fed49"
      },
      "execution_count": 8,
      "outputs": [
        {
          "output_type": "stream",
          "name": "stdout",
          "text": [
            "80.0% - test\n",
            "20.0% - validation\n",
            "alpha: 1.8\n",
            "F1-score of the test:  98.32%\n",
            "Confusion Matrix:\n",
            "[[1443   57]\n",
            " [  94 4406]]\n"
          ]
        },
        {
          "output_type": "display_data",
          "data": {
            "image/png": "[encoded data removed]",
            "text/plain": [
              "<Figure size 432x288 with 1 Axes>"
            ]
          },
          "metadata": {
            "needs_background": "light"
          }
        }
      ]
    },
    {
      "cell_type": "markdown",
      "source": [
        "Comparación de ejecutar el test sobre el modelo de BernoulliNB con el mejor alpha en cada caso calculado al vuelo.<br>\n",
        "Para el caso del **unigrama**:\n",
        "```\n",
        "80.0% - test\n",
        "20.0% - validation\n",
        "alpha: 0.1\n",
        "F1-score of the test:  98.89%\n",
        "Confusion Matrix:\n",
        "[[1426   74]\n",
        " [  26 4474]]\n",
        "```\n",
        "Para el caso del **bigrama**:\n",
        "```\n",
        "80.0% - test\n",
        "20.0% - validation\n",
        "alpha: 1.8\n",
        "F1-score of the test:  98.32%\n",
        "Confusion Matrix:\n",
        "[[1443   57]\n",
        " [  94 4406]]\n",
        "```"
      ],
      "metadata": {
        "id": "y5d_CjanqfoT"
      }
    },
    {
      "cell_type": "code",
      "source": [
        "tryBest(p=0.2, method=\"MultinomialNB\")"
      ],
      "metadata": {
        "colab": {
          "base_uri": "https://localhost:8080/",
          "height": 401
        },
        "id": "_EYtsFD8lHkG",
        "outputId": "3637078f-7904-45b4-bf00-51792cb9e4fe"
      },
      "execution_count": 9,
      "outputs": [
        {
          "output_type": "stream",
          "name": "stdout",
          "text": [
            "80.0% - test\n",
            "20.0% - validation\n",
            "alpha: 0.15\n",
            "F1-score of the test:  98.50%\n",
            "Confusion Matrix:\n",
            "[[1466   34]\n",
            " [ 100 4400]]\n"
          ]
        },
        {
          "output_type": "display_data",
          "data": {
            "image/png": "[encoded data removed]",
            "text/plain": [
              "<Figure size 432x288 with 1 Axes>"
            ]
          },
          "metadata": {
            "needs_background": "light"
          }
        }
      ]
    },
    {
      "cell_type": "markdown",
      "source": [
        "Comparación de ejecutar el test sobre el modelo de MultinomialNB con el mejor alpha en cada caso calculado al vuelo.<br>\n",
        "Para el caso del **unigrama**:\n",
        "```\n",
        "80.0% - test\n",
        "20.0% - validation\n",
        "alpha: 0.2\n",
        "F1-score of the test:  98.98%\n",
        "Confusion Matrix:\n",
        "[[1438   62]\n",
        " [  30 4470]]\n",
        "```\n",
        "Para el caso del **bigrama**:\n",
        "```\n",
        "80.0% - test\n",
        "20.0% - validation\n",
        "alpha: 0.15\n",
        "F1-score of the test:  98.50%\n",
        "Confusion Matrix:\n",
        "[[1466   34]\n",
        " [ 100 4400]]\n",
        "```"
      ],
      "metadata": {
        "id": "FkuxvCWarLm5"
      }
    },
    {
      "cell_type": "code",
      "source": [
        "y_pred = classifier.predict(X_test)\n",
        "\n",
        "encontrado = [False, False, False, False]\n",
        "resultados ={\n",
        "  \"HH\":{\n",
        "      \"texto\":\"\",\n",
        "      \"contenido\":[],\n",
        "      \"bag\":{},\n",
        "  },\n",
        "  \"HS\":{\n",
        "      \"texto\":\"\",\n",
        "      \"contenido\":[],\n",
        "      \"bag\":{},\n",
        "  },\n",
        "  \"SH\":{\n",
        "      \"texto\":\"\",\n",
        "      \"contenido\":[],\n",
        "      \"bag\":{},\n",
        "  },\n",
        "  \"SS\":{\n",
        "      \"texto\":\"\",\n",
        "      \"contenido\":[],\n",
        "      \"bag\":{},\n",
        "  },\n",
        "}\n",
        "\n",
        "for i, t in enumerate(zip(mails_test, y_test, y_pred)):\n",
        "  # print(f\"{i} - {t}\")\n",
        "  if t[1] == t[2] and t[1] == 1 and not encontrado[0]:\n",
        "    encontrado[0] = True\n",
        "    resultados[\"HH\"][\"texto\"] = t[0]\n",
        "    resultados[\"HH\"][\"contenido\"] = t[0].split()\n",
        "  elif t[1] != t[2] and t[1] == 0 and not encontrado[1]:\n",
        "    encontrado[1] = True\n",
        "    resultados[\"HS\"][\"texto\"] = t[0]\n",
        "    resultados[\"HS\"][\"contenido\"] = t[0].split()\n",
        "  elif t[1] != t[2] and t[1] == 1 and not encontrado[2]:\n",
        "    encontrado[2] = True\n",
        "    resultados[\"SH\"][\"texto\"] = t[0]\n",
        "    resultados[\"SH\"][\"contenido\"] = t[0].split()\n",
        "  elif t[1] == t[2] and t[1] == 0 and not encontrado[3]:\n",
        "    encontrado[3] = True\n",
        "    resultados[\"SS\"][\"texto\"] = t[0]\n",
        "    resultados[\"SS\"][\"contenido\"] = t[0].split()\n",
        "  elif encontrado[0] == True and encontrado[1] == True and encontrado[2] == True and encontrado[3] == True:\n",
        "    break\n",
        "\n",
        "print(\n",
        "\"\"\"\n",
        "Lista de palabras pertenecientes a los emails analizados y detetados como uno de cada tipo.\n",
        "Estas bolsas de palabras contendran aquellas palabras que han hecho que el clasificador\n",
        "se decante por detectar el correo como spam o ham.\n",
        "\"\"\"\n",
        ")\n",
        "print(resultados[\"HH\"][\"contenido\"])\n",
        "print(resultados[\"HS\"][\"contenido\"])\n",
        "print(resultados[\"SH\"][\"contenido\"])\n",
        "print(resultados[\"SS\"][\"contenido\"])"
      ],
      "metadata": {
        "colab": {
          "base_uri": "https://localhost:8080/"
        },
        "id": "VqJNBUMUKbsQ",
        "outputId": "1a035c8b-9772-40c4-dd72-c9e86eed6668"
      },
      "execution_count": 10,
      "outputs": [
        {
          "output_type": "stream",
          "name": "stdout",
          "text": [
            "\n",
            "Lista de palabras pertenecientes a los emails analizados y detetados como uno de cada tipo.\n",
            "Estas bolsas de palabras contendran aquellas palabras que han hecho que el clasificador\n",
            "se decante por detectar el correo como spam o ham.\n",
            "\n",
            "['Subject:', 'king', 'britt', 'in', 'portugal', '[', 'april', '15', ',', '16', ',', '17', ']', 'o', 'seu', 'email', 'foi', 'registado', 'na', 'base', 'de', 'dados', 'da', 'heart', 'soul', '.', 'se', 'desejar', 'ser', 'removido', 'desta', 'base', 'de', 'dados', ',', 'envie', 'um', 'email', 'para', 'remove', '@', 'heartandsoul', '.', 'pt']\n",
            "['Subject:', 'eol', 'webtext', 'here', 'is', 'my', 'proposed', 'webtext', 'for', 'fts', '-', '1', '.', 'note', 'i', \"'\", 've', 'left', 'blanks', 'for', 'you', 'to', 'fill', 'in', 'points', '.', 'text', 'for', 'other', 'services', 'is', 'forthcoming', '.']\n",
            "['Subject:', 'post', 'secondary', 'certificates', 'for', 'sale', 'here', 'you', 'still', 'don', \"'\", 't', 'have', 'a', 'unioversity', 'deogree', '?', 'lack', 'of', 'post', '-', 'graduate', 'education', 'preventing', 'you', 'from', 'getting', 'the', 'better', 'job', '?', 'graduate', 'now', 'with', 'a', 'phd', 'and', 'more', '.', '.', '.', 'no', 'more', 'school', ',', 'just', 'get', 'what', 'you', 'deserve', '\"', 'when', 'they', 'die', 'among', 'themselves', ',', 'they', 'cover', 'the', 'dead', 'with', 'great', 'heaps', 'of', 'boughs', 'and', 'wood', ',', 'which', 'is', 'commonly', 'found', 'in', 'the', 'forest', '.', '\"', '4', 'she', 'takes', 'the', 'material', 'computer', 'as', 'an', 'already', 'established', 'actant', 'as', 'her', 'starting', 'point', 'and', 'focuses', 'on', 'software', 'instead', 'of', 'the', 'machine', '.', 'her', 'claim', 'depends', 'on', 'the', 'development', 'of', 'graphical', 'user', 'interfaces', 'that', 'made', 'the', 'change', 'possible', 'from', 'modern', 'to', 'post', '-', 'mode', 'which', 'l?vy', 'claimed', 'could', 'lead', 'to', 'a', 'collective', 'intelligence', '.', 'in', 'artificial', 'life', 'was', 'able', 'to', 'suck', 'the', 'air', 'out', 'of', 'the', 'globe', 'whereby', 'the', 'objects', 'inside', 'could', 'be', 'manipulated', 'without', 'opening', 'the', 'globe', '.', 'boyle', 'in', 'this', 'way', 'succeeded', 'in', 'experimentally', 'creating', 'a', 'vacuum', 'leaving', 'us', 'in', 'the', 'realm', 'of', 'nature', '-', 'culture', 'hybrids', '.', 'this', 'thesis', 'will', 'explore', 'different', 'realms', 'of', 'cyberculture', 'by', 'the', 'investigations', 'herein', 'detailed', ',', 'it', 'became', '[', '30', ']', 'evident', 'that', 'the', 'old', 'chimpanzee', 'acquired', 'a', 'size', 'and', 'aspect', 'as', 'different', 'from', 'those', 'of', 'the', 'young', 'known', 'to', 'tyson', ',', 'to', 'buffon', ',', 'and', 'to', 'traill', ',', 'as', 'those', 'of', 'the', 'old', 'orang', 'from', 'the', 'young', 'orang', ';', 'and', 'the', 'subsequent', 'very', 'important', 'researches', 'of', 'messrs', '.', 'savage', 'and', 'wyman', ',', 'the', 'american', 'missionary', 'and', 'anatomist', ',', 'have', 'not', 'only', 'confirmed', 'this', 'conclusion', ',', 'but', 'have', 'added', 'many', 'new', 'detailsl', '4', 'no', 'matter', 'how', 'complicated', 'could', 'represent', 'the', 'complexity', 'of', 'the', 'whole', 'numbers', ':', '0', 'the', 'interesting', 'from', 'our', 'non', '-', 'modern', 'point', 'of', 'view', 'but', 'to', 'be', 'part', 'of', 'them', 'you', 'will', 'need', 'more', 'than', 'everyday', 'computer', 'skills', '.', 'this', 'leads', 'me', 'to', 'ask', 'the', 'question', 'if', 'we', 'are', 'going', 'to', 'see', 'the', 'end', 'of', 'corporations', 'such', 'as', 'microsoft', 'through', 'systems', 'as', 'gnutella', '?', 'to', 'this', 'i', 'think', 'the', 'answer', 'is', 'no', '.', 'sure', '8', ')', '.', 'turkle', 'wants', 'to', 'warn', 'us', 'of', 'the', 'dangers', 'of', 'the', 'postmodern', 'culture', 'she', 'claims', 'we', 'are', 'part', 'of', 'leaving', 'his', 'opponent', 'thomas', 'hobbes', 'mainly', 'out', 'of', 'the', 'discussion', '.', 'hobbes', 'contribution', 'to', 'the', 'dispute', 'was', 'arguing', 'against', 'the', 'creation', 'of', 'an', 'authority', 'that', 'would', 'undermine', 'the', 'king', \"'\", 's', 'position', 'of', 'power', 'arguing', 'from', 'a', 'social', 'point', 'of', 'view', 'that', 'the', 'state', 'and', 'k', 'for', 'example', ',', 'the', 'second', 'chapter', 'of', 'purchas', \"'\", 'work', ',', 'which', 'i', 'have', 'just', 'quoted', ',', 'contains', '\"', 'a', 'description', 'and', 'historicall', 'declaration', 'of', 'the', 'golden', 'kingdom', 'of', 'guinea', ',', '&', 'c', '.', '&', 'c', '.', 'translated', 'from', 'the', 'dutch', ',', 'and', 'compared', 'also', 'with', 'the', 'latin', ',', '\"', 'wherein', 'it', 'is', 'stated', '(', 'p', '.', '986', ')', 'that', '?']\n",
            "['Subject:', 'enron', 'in', 'action', '12', '.', '11', '.', '00', 'help', 'cps', 'kids', '!', 'enron', ',', 'krbe', 'and', 'sun', 'and', 'ski', 'sports', 'are', 'collecting', 'donations', 'for', 'children', \"'\", 's', 'protective', 'services', \"'\", 'be', 'a', 'resource', '(', 'bear', ')', 'program', 'to', 'purchase', 'gifts', 'this', 'holiday', 'season', '.', 'make', 'your', 'donation', 'and', 'receive', 'a', '$', '10', '-', 'off', 'coupon', 'for', 'sun', 'and', 'ski', 'sports', '.', 'donations', 'will', 'be', 'accepted', 'in', 'eb', '407', 'or', 'the', 'enron', 'building', 'lobby', '-', 'tuesday', ',', 'december', '12', ';', 'thursday', ',', 'december', '14', ';', 'and', 'monday', ',', 'december', '18', 'from', '10', ':', '00', 'a', '.', 'm', '.', '-', '2', ':', '00', 'p', '.', 'm', '.', 'krbe', 'live', 'in', 'come', 'out', 'and', 'show', 'your', 'support', 'for', 'the', 'cps', '-', 'bear', 'collection', 'monday', ',', 'december', '18', 'when', 'the', '104', 'krbe', 'antioch', 'park', 'morning', 'show', \"'\", 's', '\"', 'streets', 'of', 'america', '\"', 'comes', 'to', 'antioch', 'park', '.', 'see', 'you', 'there', 'bright', 'and', 'early', 'from', '6', ':', '00', 'a', '.', 'm', '.', '-', '9', ':', '00', 'a', '.', 'm', '!', 'make', 'a', 'donation', 'and', 'get', 'a', 'krispy', 'kreme', 'doughnut', '!', 'houston', 'symphony', 'enjoy', 'the', 'classical', 'encounters', 'for', 'singles', '2', 'nd', 'annual', 'holiday', 'bash', 'with', 'the', 'houston', 'symphony', 'on', 'singles', 'mixer', '!', 'friday', ',', 'december', '15', 'from', '6', ':', '00', 'p', '.', 'm', '.', '-', '7', ':', '30', 'p', '.', 'm', '.', 'at', 'the', 'balcony', 'level', 'lobby', 'of', 'jones', 'hall', '!', 'this', 'pre', '-', 'concert', 'party', 'offers', 'a', 'dessert', 'buffet', ',', 'live', 'jazz', 'quartet', 'blue', 'monks', ',', 'door', 'prizes', 'and', 'more', '.', 'it', 'is', 'also', 'a', 'prelude', 'to', 'the', 'houston', 'symphony', 'concert', 'at', '8', ':', '00', 'p', '.', 'm', '.', 'in', 'jones', 'hall', 'featuring', 'handel', \"'\", 's', 'messiah', '.', 'tickets', 'are', '$', '35', 'per', 'person', 'and', 'include', 'the', 'mixer', 'and', 'concert', 'ticket', '-', 'pre', '-', 'paid', 'reservations', 'are', 'required', '.', 'space', 'is', 'limited', '!', 'call', '713', '-', '238', '-', '1477', 'to', 'reserve', 'your', 'seat', '.', 'enron', 'holiday', 'you', 'are', 'invited', 'to', 'the', 'enron', 'holiday', 'open', 'house', 'and', 'festival', 'of', 'lights', 'on', 'tuesday', ',', 'december', '19', 'on', 'the', 'open', 'house', 'executive', '50', 'th', 'floor', 'from', '3', ':', '00', 'p', '.', 'm', '.', '-', '5', ':', '00', 'p', '.', 'm', '.', 'come', 'enjoy', 'some', 'delightful', 'treats', 'and', 'holiday', 'cheer', 'at', 'this', 'annual', 'celebration', '!', 'galleryfurniture', '.', 'com', 'the', 'inaugural', 'galleryfurniture', '.', 'com', 'bowl', 'game', 'is', 'coming', 'to', 'houston', 'on', 'wednesday', ',', 'december', '27', 'th', 'at', 'the', 'bowl', 'houston', 'astrodome', 'and', 'enron', 'is', 'proud', 'to', 'be', 'a', 'major', 'sponsor', 'of', 'the', 'game', '.', 'don', \"'\", 't', 'miss', 'your', 'chance', 'to', 'be', 'a', 'part', 'of', 'all', 'the', 'exciting', 'action', ',', 'as', 'the', 'texas', 'tech', 'red', 'raiders', 'and', 'east', 'carolina', 'pirates', 'go', 'head', '-', 'to', '-', 'head', 'in', 'the', 'battle', 'of', 'bowl', 'bragging', 'rights', '.', 'discounted', 'tickets', 'to', 'the', 'game', 'are', 'being', 'sold', 'to', 'all', 'enron', 'employees', 'for', 'only', '$', '9', 'each', '(', 'no', 'limit', ')', 'through', 'the', 'signature', 'shop', 'through', 'december', '18', 'th', 'or', 'until', 'the', 'game', 'is', 'sold', 'out', '.', 'for', 'more', 'information', ',', 'click', 'here', 'for', 'a', 'direct', 'link', 'or', 'visit', 'enronsigshop', '.', 'com', 'to', 'be', 'a', 'part', 'of', 'all', 'the', 'exciting', 'bowl', 'action', '!', 'theater', 'tickets', 'for', 'stages', 'repertory', 'theatre', ',', 'the', 'second', 'largest', 'theatre', 'in', 'houston', ',', 'presents', '\"', 'company', '\"', ',', 'stephen', 'sondheim', \"'\", 's', 'adults', 'and', 'kids', '!', 'enchanting', 'musical', 'about', 'the', 'difficulties', 'of', 'love', 'and', 'commitment', '.', 'performances', 'run', 'wednesday', 'through', 'sunday', 'every', 'week', 'from', 'now', 'until', 'december', '31', 'and', 'enron', 'employees', 'receive', 'a', '$', '5', 'discount', 'when', 'they', 'order', 'main', 'stage', 'tickets', 'by', 'phone', 'at', '713', '-', '527', '-', '8243', '.', 'for', 'the', 'little', 'ones', ',', '\"', 'the', 'toys', 'take', 'over', 'christmas', '\"', 'is', 'a', 'fun', '-', 'filled', 'holiday', 'story', 'set', 'in', 'an', 'old', '-', 'fashioned', 'toyshop', 'in', 'the', 'early', '1900', \"'\", 's', '.', 'tickets', 'are', '$', '8', 'per', 'child', 'and', 'include', 'a', 'visit', 'from', 'santa', '.', 'daytime', 'performances', 'run', 'from', 'now', 'until', 'december', '23', '.', 'call', '713', '-', '527', '-', '8243', 'or', 'visit', 'www', '.', 'stagestheatre', '.', 'com', 'to', 'order', 'your', 'tickets', '!', 'enron', 'camera', 'club', 'coming', 'soon', '.', '.', '.', 'watch', 'this', 'space', 'for', 'details', '!', 'houston', 'cougars', 'vs', '.', 'come', 'support', 'the', 'houston', 'cougars', 'as', 'they', 'face', 'the', 'texas', 'longhorns', 'on', 'wednesday', ',', 'december', '20', 'th', 'at', 'hofheinz', 'texas', 'longhorns', 'pavilion', '.', '94', '.', '5', 'the', 'buzz', 'will', 'be', 'at', 'the', 'game', 'collecting', 'items', 'for', 'their', 'santa', \"'\", 's', 'letters', 'promotion', '.', 'any', 'fan', 'donating', 'an', 'item', 'to', 'santa', \"'\", 's', 'letters', 'will', 'have', 'the', 'opportunity', 'to', 'upgrade', 'their', 'seats', 'to', 'floor', 'seats', 'and', 'one', 'lucky', 'winner', 'will', 'win', 'a', 'suite', 'to', 'a', 'future', 'game', '.', 'help', 'a', 'family', 'in', 'need', 'this', 'holiday', 'by', 'bringing', 'a', 'new', 'blanket', 'or', 'teddy', 'bear', 'to', 'the', 'game', '.', 'tickets', 'are', 'available', 'at', '713', '-', 'go', 'coogs', '.', 'christmas', 'homeless', 'the', '22', 'nd', 'annual', 'christmas', 'homeless', 'feast', '2000', ',', 'sponsored', 'by', 'the', 'city', 'wide', 'club', ',', 'will', 'be', 'held', 'on', 'december', '24', 'at', 'the', 'feast', 'george', 'r', '.', 'brown', 'convention', 'center', 'from', '10', ':', '00', 'a', '.', 'm', '.', 'until', 'everyone', 'is', 'served', '.', 'volunteers', 'are', 'needed', 'for', 'the', 'event', 'and', 'are', 'asked', 'to', 'arrive', 'at', '7', ':', '00', 'a', '.', 'm', '.', 'at', 'exhibit', 'c', 'for', 'instructions', '.', 'donations', 'of', 'food', 'items', '(', 'especially', 'turkeys', ')', 'are', 'much', 'appreciated', 'and', 'can', 'be', 'dropped', 'of', 'at', 'the', 'nearest', 'thrifty', 'car', 'rental', 'stores', '.', 'if', 'you', 'know', 'of', 'a', 'family', 'in', 'need', 'of', 'a', 'warm', 'meal', ',', 'please', 'call', '713', '-', '523', '-', '1640', 'for', 'more', 'information', '.', 'hunger', 'site', 'support', 'the', 'hunger', 'site', ',', 'where', 'all', 'you', 'need', 'to', 'do', 'is', 'click', 'a', 'button', 'and', 'somewhere', 'in', 'the', 'world', 'a', 'hungry', 'person', 'receives', 'a', 'meal', 'at', 'no', 'cost', 'to', 'you', '.', 'the', 'site', 'is', 'backed', 'by', 'corporate', 'sponsors', '.', 'all', 'it', 'takes', 'is', 'a', 'second', 'to', 'click', 'an', 'icon', 'to', 'donate', 'food', 'once', 'a', 'day', '.', 'see', 'www', '.', 'thehungersite', '.', 'com', 'for', 'details', '.', 'flu', 'vaccine', 'the', 'flu', 'vaccine', 'is', 'being', 'delivered', 'to', 'the', 'health', 'center', 'in', 'small', 'allotments', '.', 'if', 'you', 'would', 'like', 'a', 'flu', 'shot', ',', 'please', 'e', '-', 'mail', 'health', 'center', '.', 'you', 'will', 'be', 'notified', 'via', 'e', '-', 'mail', 'when', 'your', 'vaccine', 'arrives', '.', 'the', 'met', '-', 'business', 'the', 'met', '-', 'business', '&', 'sports', 'club', 'is', 'waiving', 'the', '$', '200', 'initiation', 'fee', 'for', 'new', 'enrollments', 'in', 'december', '!', 'contact', '&', 'sports', 'club', 'susan', 'jakers', 'or', 'keri', 'elliott', 'at', 'the', 'met', 'at', '713', '-', '652', '-', '0700', 'or', 'georgia', 'fogo', 'at', 'ext', '.', '35609', 'for', 'more', 'information', '.', 'share', 'the', 'news', 'if', 'you', 'would', 'like', 'to', 'post', 'any', 'news', 'or', 'events', 'in', 'enron', 'in', 'action', ',', 'please', 'email', 'your', 'information', 'to', 'michelle', 'lin', '(', 'ext', '.', '39963', ')', 'no', 'later', 'than', '12', ':', '00', 'noon', 'the', 'thursday', 'prior', 'to', 'the', 'next', 'monday', '\\x01', ',', 's', 'mailing', '.']\n"
          ]
        }
      ]
    },
    {
      "cell_type": "code",
      "source": [
        "def getBag(palabras) -> dict:\n",
        "  \"\"\"\n",
        "  devuelve un diccionario: {palabra: veces que aparece en la lista}\n",
        "  \"\"\"\n",
        "  palabras = list(filter(lambda p: p.isalpha(), palabras))\n",
        "\n",
        "  frecuencias = []\n",
        "  for w in palabras:\n",
        "    frecuencias.append(palabras.count(w))\n",
        "\n",
        "  data = list(set(zip(palabras, frecuencias)))\n",
        "  diccionario = {}\n",
        "  for key, value in data:\n",
        "    diccionario.update({key : value})\n",
        "  return diccionario\n",
        "\n",
        "resultados[\"HH\"][\"bag\"] = getBag(resultados[\"HH\"][\"contenido\"])\n",
        "resultados[\"HS\"][\"bag\"] = getBag(resultados[\"HS\"][\"contenido\"])\n",
        "resultados[\"SH\"][\"bag\"] = getBag(resultados[\"SH\"][\"contenido\"])\n",
        "resultados[\"SS\"][\"bag\"] = getBag(resultados[\"SS\"][\"contenido\"])\n",
        "\n",
        "dicRes = {\n",
        "    \"HH\":[],\n",
        "    \"HS\":[],\n",
        "    \"SH\":[],\n",
        "    \"SS\":[],\n",
        "}\n",
        "\n",
        "# Elimina la coincidencia de palabras entra las distintas bolsas\n",
        "# de tal manera que se queda con listas únicas de palabras\n",
        "for dict1 in resultados:\n",
        "  for dict2 in resultados:\n",
        "    if dict2 != dict1:\n",
        "      # comparo los datos de d1 y filtro con dict2\n",
        "      dicRes[dict1] = resultados[dict1][\"bag\"]  # copia de la bolsa de dict1\n",
        "      aux = dicRes[dict1].copy()\n",
        "      for key in aux:\n",
        "        if key in resultados[dict2][\"bag\"]:\n",
        "          dicRes[dict1].pop(key)\n",
        "\n",
        "# Muestra las palabras que el mail detectado como: [HH | HS | SH | SS] no coparte con el \n",
        "# resto de los mails pertenecientes a la lista [HH, HS, SH, SS]\n",
        "print(\"Lista de palabras de las que se han eliminado las coincidencias entre estas:\\n\")\n",
        "print( dicRes[\"HH\"] )\n",
        "print( dicRes[\"HS\"] )\n",
        "print( dicRes[\"SH\"] )\n",
        "print( dicRes[\"SS\"] )\n",
        "\n",
        "# print(\"Correos detectados:\\n\")\n",
        "# print( resultados[\"HH\"][\"contenido\"] )  # Este mail ha sido detectado como HAM  y es correcto\n",
        "# print( resultados[\"HS\"][\"contenido\"] )  # Este mail ha sido detectado como SPAM y es incorrecto\n",
        "# print( resultados[\"SH\"][\"contenido\"] )  # Este mail ha sido detectado como HAM  y es incorrecto\n",
        "# print( resultados[\"SS\"][\"contenido\"] )  # Este mail ha sido detectado como SPAM y es correcto"
      ],
      "metadata": {
        "colab": {
          "base_uri": "https://localhost:8080/"
        },
        "id": "Gg1uoMvtKgNE",
        "outputId": "cd4cb3f5-a288-4df3-83bb-d3588c8a0b18"
      },
      "execution_count": 11,
      "outputs": [
        {
          "output_type": "stream",
          "name": "stdout",
          "text": [
            "Lista de palabras de las que se han eliminado las coincidencias entre estas:\n",
            "\n",
            "{'dados': 2, 'de': 2, 'removido': 1, 'um': 1, 'desejar': 1, 'heartandsoul': 1, 'britt': 1, 'remove': 1, 'foi': 1, 'ser': 1, 'o': 1, 'april': 1, 'pt': 1, 'desta': 1, 'se': 1, 'heart': 1, 'soul': 1, 'para': 1, 'portugal': 1, 'seu': 1, 'registado': 1, 'da': 1, 'base': 2, 'envie': 1, 'na': 1}\n",
            "{'text': 1, 'fill': 1, 'left': 1, 'points': 1, 'note': 1, 'eol': 1, 'fts': 1, 'forthcoming': 1, 've': 1, 'blanks': 1, 'webtext': 2, 'other': 1, 'my': 1, 'proposed': 1}\n",
            "{'important': 1, 'which': 3, 'wyman': 1, 'hybrids': 1, 'tyson': 1, 'heaps': 1, 'deogree': 1, 'lead': 1, 'machine': 1, 'established': 1, 'missionary': 1, 'me': 1, 'aspect': 1, 'discussion': 1, 'interesting': 1, 'education': 1, 'complicated': 1, 'still': 1, 'think': 1, 'starting': 1, 'commonly': 1, 'unioversity': 1, 'claims': 1, 'undermine': 1, 'quoted': 1, 'sure': 1, 'focuses': 1, 'intelligence': 1, 'claimed': 1, 'leaving': 2, 'was': 2, 'experimentally': 1, 'arguing': 2, 'kingdom': 1, 'great': 1, 'explore': 1, 'researches': 1, 'just': 2, 'die': 1, 'stated': 1, 'mode': 1, 'acquired': 1, 'social': 1, 'certificates': 1, 'secondary': 1, 'matter': 1, 'wherein': 1, 'contribution': 1, 'what': 1, 'added': 1, 'artificial': 1, 'cyberculture': 1, 'manipulated': 1, 'non': 1, 'american': 1, 'among': 1, 'became': 1, 'detailed': 1, 'such': 1, 'dangers': 1, 'historicall': 1, 'going': 1, 'nature': 1, 'buffon': 1, 'everyday': 1, 'better': 1, 'material': 1, 'development': 1, 'inside': 1, 'power': 1, 'our': 1, 'them': 1, 'anatomist': 1, 'sale': 1, 'job': 1, 'systems': 1, 'guinea': 1, 'change': 1, 'whole': 1, 'hobbes': 2, 'question': 1, 'succeeded': 1, 'turkle': 1, 'opponent': 1, 'work': 1, 'orang': 2, 'subsequent': 1, 'cover': 1, 'detailsl': 1, 'way': 1, 'conclusion': 1, 'evident': 1, 'dispute': 1, 'herein': 1, 'that': 5, 'king': 1, 'young': 2, 'warn': 1, 'instead': 1, 'us': 2, 'compared': 1, 'found': 1, 'her': 2, 'depends': 1, 'thesis': 1, 'possible': 1, 'suck': 1, 'mainly': 1, 'different': 2, 'globe': 2, 'investigations': 1, 'made': 1, 'phd': 1, 'lack': 1, 'forest': 1, 'creating': 1, 'his': 1, 'end': 1, 'actant': 1, 'k': 1, 'golden': 1, 'state': 1, 'realm': 1, 'school': 1, 'answer': 1, 'dead': 1, 'latin': 1, 'software': 1, 'without': 1, 'example': 1, 'boyle': 1, 'ask': 1, 'themselves': 1, 'preventing': 1, 'traill': 1, 'savage': 1, 'interfaces': 1, 'contains': 1, 'known': 1, 'objects': 1, 'how': 1, 'deserve': 1, 'numbers': 1, 'claim': 1, 'boughs': 1, 'she': 2, 'whereby': 1, 'description': 1, 'size': 1, 'user': 1, 'corporations': 1, 'life': 1, 'those': 2, 'complexity': 1, 'computer': 2, 'opening': 1, 'getting': 1, 'represent': 1, 'modern': 2, 'chapter': 1, 'very': 1, 'position': 1, 'i': 2, 'view': 2, 'realms': 1, 'leads': 1, 'vacuum': 1, 'culture': 2, 'skills': 1, 'dutch': 1, 'not': 1, 'graphical': 1, 'thomas': 1, 'purchas': 1, 'declaration': 1, 'authority': 1, 'wood': 1, 'microsoft': 1, 'gnutella': 1, 'we': 2, 'but': 2, 'chimpanzee': 1, 'postmodern': 1, 'able': 1, 'messrs': 1, 'graduate': 2, 'wants': 1, 'collective': 1, 'confirmed': 1, 'many': 1, 'air': 1, 'against': 1, 'point': 3, 'already': 1, 'creation': 1, 'translated': 1, 'could': 3}\n",
            "{'executive': 1, 'an': 3, 'available': 1, 'head': 2, 'asked': 1, 'stores': 1, 'seat': 1, 'enrollments': 1, 'classical': 1, 'event': 1, 'soon': 1, 'antioch': 2, 'in': 15, 'morning': 1, 'somewhere': 1, 'per': 2, 'raiders': 1, 'prizes': 1, 'reserve': 1, 'open': 2, 'hunger': 2, 'program': 1, 'direct': 1, 'by': 4, 'met': 3, 'buffet': 1, 'contact': 1, 'difficulties': 1, 'and': 23, 'notified': 1, 'shot': 1, 'club': 4, 'thrifty': 1, 'rental': 1, 'also': 1, 'stagestheatre': 1, 'stage': 1, 'ext': 2, 'offers': 1, 'allotments': 1, 'details': 2, 'winner': 1, 'bright': 1, 'especially': 1, 'until': 4, 'cheer': 1, 'is': 12, 'volunteers': 1, 'person': 2, 'served': 1, 'vaccine': 3, 'arrives': 1, 'performances': 2, 'see': 2, 'game': 7, 'teddy': 1, 'make': 2, 'limit': 1, 'hofheinz': 1, 'health': 2, 'convention': 1, 'sunday': 1, 'tickets': 7, 'donate': 1, 'where': 1, 'commitment': 1, 'noon': 1, 'as': 2, 'sold': 2, 'only': 1, 'phone': 1, 'exhibit': 1, 'food': 2, 'mailing': 1, 'limited': 1, 'eb': 1, 'ski': 2, 'here': 1, 'kids': 2, 'treats': 1, 'main': 1, 'receive': 2, 's': 8, 'george': 1, 'p': 6, 'support': 3, 'at': 16, 'your': 7, 'elliott': 1, 'streets': 1, 'friday': 1, 'encounters': 1, 'part': 2, 'buzz': 1, 'run': 2, 'come': 3, 'enjoy': 2, 'georgia': 1, 'rights': 1, 'each': 1, 'discounted': 1, 'item': 1, 'turkeys': 1, 'being': 2, 'sondheim': 1, 'they': 2, 'e': 2, 'michelle': 1, 'monks': 1, 'new': 2, 'blanket': 1, 'comes': 1, 'nd': 2, 'small': 1, 'if': 3, 'keri': 1, 'pre': 2, 'bowl': 4, 'now': 2, 'red': 1, 'coogs': 1, 'camera': 1, 'share': 1, 'much': 1, 'to': 27, 'thehungersite': 1, 'ones': 1, 'krbe': 3, 'site': 3, 'enronsigshop': 1, 'presents': 1, 'vs': 1, 'icon': 1, 'center': 3, 'exciting': 2, 'backed': 1, 'krispy': 1, 'enchanting': 1, 'collection': 1, 'live': 2, 'feast': 2, 'from': 8, 'accepted': 1, 'theater': 1, 'sports': 4, 'one': 1, 'second': 2, 'it': 2, 'nearest': 1, 'com': 5, 'susan': 1, 'love': 1, 'enron': 10, 'inaugural': 1, 'week': 1, 'delivered': 1, 'have': 1, 'over': 1, 'prior': 1, 'jakers': 1, 'events': 1, 'you': 8, 'than': 1, 'adults': 1, 'fashioned': 1, 'balcony': 1, 'major': 1, 'watch': 1, 'city': 1, 'via': 1, 'all': 5, 'galleryfurniture': 2, 'car': 1, 'mail': 2, 'daytime': 1, 'get': 1, 'shop': 1, 'needed': 1, 'would': 2, 'dropped': 1, 'blue': 1, 'fogo': 1, 'about': 1, 'instructions': 1, 'required': 1, 'everyone': 1, 'child': 1, 'family': 2, 'future': 1, 't': 1, 'button': 1, 'featuring': 1, 'more': 4, 'doughnut': 1, 'quartet': 1, 'annual': 3, 'opportunity': 1, 'party': 1, 'bash': 1, 'call': 3, 'concert': 3, 'pirates': 1, 'a': 30, 'promotion': 1, 'like': 2, 'services': 1, 'cost': 1, 'business': 2, 'space': 2, 'next': 1, 'r': 1, 'wednesday': 3, 'reservations': 1, 'resource': 1, 'bragging': 1, 'world': 1, 'action': 4, 'suite': 1, 'thursday': 2, 'toyshop': 1, 'carolina': 1, 'donations': 3, 'their': 2, 'out': 2, 'donation': 2, 'will': 6, 'festival': 1, 'seats': 2, 'texas': 3, 'cougars': 2, 'flu': 3, 'wide': 1, 'c': 1, 'employees': 2, 'th': 4, 'early': 2, 'discount': 1, 'dessert': 1, 'building': 1, 'season': 1, 'takes': 1, 'arrive': 1, 'upgrade': 1, 'repertory': 1, 'there': 1, 'day': 1, 'door': 1, 'be': 9, 'or': 8, 'east': 1, 'largest': 1, 'kreme': 1, 'information': 4, 'post': 1, 'tech': 1, 'with': 1, 'handel': 1, 'know': 1, 'signature': 1, 'tuesday': 2, 'invited': 1, 'once': 1, 'are': 10, 'pavilion': 1, 'house': 2, 'fun': 1, 'musical': 1, 'story': 1, 'purchase': 1, 'don': 1, 'delightful': 1, 'letters': 2, 'visit': 3, 'please': 3, 'off': 1, 'go': 2, 'fee': 1, 'christmas': 3, 'receives': 1, 'brown': 1, 'toys': 1, 'show': 2, 'of': 12, 'held': 1, 'december': 13, 'monday': 3, 'jones': 2, 'theatre': 2, 'stephen': 1, 'every': 1, 'battle': 1, 'later': 1, 'appreciated': 1, 'cps': 2, 'lin': 1, 'gifts': 1, 'coming': 2, 'chance': 1, 'paid': 1, 'corporate': 1, 'sponsored': 1, 'some': 1, 'america': 1, 'on': 6, 'waiving': 1, 'do': 1, 'include': 2, 'warm': 1, 'lobby': 2, 'lights': 1, 'sponsor': 1, 'jazz': 1, 'proud': 1, 'stages': 1, 'initiation': 1, 'collecting': 2, 'symphony': 3, 'take': 1, 'click': 3, 'houston': 8, 'the': 48, 'can': 1, 'children': 1, 'bringing': 1, 'hall': 2, 'order': 2, 'singles': 2, 'link': 1, 'celebration': 1, 'filled': 1, 'sponsors': 1, 'help': 2, 'this': 5, 'win': 1, 'lucky': 1, 'sun': 2, 'email': 1, 'face': 1, 'hungry': 1, 'items': 2, 'company': 1, 'park': 2, 'need': 3, 'ticket': 1, 'no': 3, 'when': 3, 'protective': 1, 'little': 1, 'meal': 2, 'news': 2, 'through': 3, 'fan': 1, 'www': 2, 'floor': 2, 'm': 11, 'messiah': 1, 'any': 2, 'old': 1, 'homeless': 2, 'longhorns': 2, 'prelude': 1, 'miss': 1, 'for': 17, 'donating': 1, 'bear': 3, 'set': 1, 'holiday': 7, 'level': 1, 'astrodome': 1, 'coupon': 1, 'santa': 3, 'mixer': 2}\n"
          ]
        }
      ]
    },
    {
      "cell_type": "markdown",
      "source": [
        "## Conclusiones\n",
        "\n",
        "Tras haber realizado las pruebas anteriores he llegado a la conclusión de que parece ser un buen clasificador de SPAM, aunque no sea perfecto esta muy cerca de serlo.<br>\n",
        "El **F1-score** ha mostrado siempre un valor por encima de 95% siendo el valor mas alto obtenido el caso del clasificador multinomial con la configuración de unigrama con un 98.98% de puntuación.<br>\n",
        "La **matriz de confusión** muestra en su diagonal principal la gran mayoria de mails tanto de SPAM como de HAM por lo que en cualquiera de las 4 pruebas se ha obtenido un resultado satisfactorio siendo asi reconocidos la mayoria de mails SPAM.\n",
        "En cuanto al resultado mostrado por la curva precisión-recall se podria decir que tiene buena pinta al acercarse bastante al 1 diciendo asi que:\n",
        "1.   Los elementos detectados son SPAM\n",
        "2.   De aquellos que detecta como SPAM la gran mayoria de ellos lo son de verdad.\n",
        "\n",
        "<br>\n",
        "Un umbral para el precision-recall podria ser: [0.98, 0.98] en ambos casos ya que es el momento en el que la curva está en su punto central +- diciendo así que hay una buena proporción entre aquellos mails que se dicen que son SPAM y los que realmente son SPAM.\n",
        "\n",
        "De aquellos correos analizados con el clasificador he cogido 4, uno de cada tipo para comparar las palabras que utilizan cada uno de ellos y entender como el clasificador ha podido hacer su elección.\n",
        "En las pruebas realizada en las 2 celdas de código anteriores lo que he hecho ha sido:\n",
        "1. Dectectar un correo de cada tipo: [ham-ham | ham-spam | spam-ham | spam spam]\n",
        "2. Una vez detectados estos, he creado una bolsa de palabras en base al contenido del mail.\n",
        "3. He quitado aquellas palabras que pertenecian a alguno de los otros mails para quedarme con aquellas que eran propias de esos mails.\n",
        "4. he revisado el contenido del mail para entender +- que palabras han podido ser las responsables de esta decisión. (Al hacer la eliminación de palabras repetidas/compartidas en uno de los 4 mails soy consciente de que las palabras que estaban en el mail de spam también estaría probablemente en el detectado como spam pero que es ham eliminando así aquellas palabras que podrían resultar más relevantes para entender que palabras ha usado el clasificador para decir que es spam)\n",
        "\n",
        "Sobre el uso de bi-gramas resulta que el clasificador a la hora de coger palabras para clasificarlas en vez de coger de 1 en 1 las coge de 2 en 2.\n",
        "Mientras buscaba información al respecto de uso de n-gramas encontre un sitio en el que afirmaban que la mejor configuración para el filtro de spam era un 4-5, probe ambas configuraciones pero salió mal el experimento.\n"
      ],
      "metadata": {
        "id": "MaVVhWIGtylK"
      }
    },
    {
      "cell_type": "code",
      "source": [
        ""
      ],
      "metadata": {
        "id": "mkRpyhnlCUCD"
      },
      "execution_count": null,
      "outputs": []
    }
  ]
}